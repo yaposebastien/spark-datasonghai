{
 "cells": [
  {
   "cell_type": "code",
   "execution_count": 4,
   "metadata": {},
   "outputs": [
    {
     "name": "stdout",
     "output_type": "stream",
     "text": [
      "+---+---------+-----+----------------+-----------------+-------------------+--------------------+--------------------+-----------------+-------------------+-----------------------+--------------------+-------------+--------------------+---------------------+--------------------+----------+\n",
      "| id|numdecret|annee|date_publication| categorie_decret|          type_acte|         decretintro|    decret_texte_url|        signature|journal_officiel_id|numero_journal_officiel|          tag_decret|montantdecret|     nom_institution|reference_pret_decret|     localite_decret|datesubmit|\n",
      "+---+---------+-----+----------------+-----------------+-------------------+--------------------+--------------------+-----------------+-------------------+-----------------------+--------------------+-------------+--------------------+---------------------+--------------------+----------+\n",
      "|  1| 2019-892| 2019|      2019-10-30|PARTIE OFFICIELLE|ACTES PRESIDENTIELS|DECRET n° 2019-89...|https://journal-o...|Alassane Ouattara|                  1|         JO-01-20200102|Ratification de l...|  20781000000|Banque d'Investis...| 127/AP/LA/BIDC/EB...|       Côte d'Ivoire|2020-06-26|\n",
      "|  2| 2019-893| 2019|      2019-10-30|PARTIE OFFICIELLE|ACTES PRESIDENTIELS|DECRET n° 2019-89...|https://journal-o...|Alassane Ouattara|                  1|         JO-01-20200102|Ratification de l...|   3906495494|Fonds africain de...| 21001500408952019...|       Côte d'Ivoire|2020-06-26|\n",
      "|  3| 2019-894| 2019|      2019-10-30|PARTIE OFFICIELLE|ACTES PRESIDENTIELS|DECRET n° 2019-89...|https://journal-o...|Alassane Ouattara|                  1|         JO-01-20200102|Ratification de l...|   3454144908|Banque africaine ...|        5565130000651|       Côte d'Ivoire|2020-06-26|\n",
      "|  4| 2019-901| 2019|      2019-10-30|PARTIE OFFICIELLE|ACTES PRESIDENTIELS|DECRET n° 2019-90...|https://journal-o...|Alassane Ouattara|                  1|         JO-01-20200102|Nomination d'un a...|            0|                    |             2019-901|République islami...|2020-06-26|\n",
      "|  5| 2019-919| 2019|      2019-11-06|PARTIE OFFICIELLE|ACTES PRESIDENTIELS|DECRET n° 2019-91...|https://journal-o...|Alassane Ouattara|                  1|         JO-01-20200102|Permis de recherc...|   1015000000|   SHEFA Minerals SA|                     |  Béoumi et Sakassou|2020-06-26|\n",
      "|  6| 2019-920| 2019|      2019-11-06|PARTIE OFFICIELLE|ACTES PRESIDENTIELS|DECRET n° 2019-92...|https://journal-o...|Alassane Ouattara|                  1|         JO-01-20200102|Permis de recherc...|    551000000|   SHEFA Minerals SA|                     |            Zuénoula|2020-06-26|\n",
      "|  7|2019-1005| 2019|      2019-12-04|PARTIE OFFICIELLE|ACTES PRESIDENTIELS|DECRET n° 2019-10...|https://journal-o...|Alassane Ouattara|                  1|         JO-01-20200102|Augmentation du c...|   4858850000|Banque nationale ...|                     |             Abidjan|2020-06-26|\n",
      "|  8|2019-1109| 2019|      2019-12-18|PARTIE OFFICIELLE|ACTES PRESIDENTIELS|DECRET n°2019-110...|https://journal-o...|Alassane Ouattara|                  2|      JO-SP-01-20200103|nomination dans l...|            0|Ministère de l'Ad...|                     |                    |2020-06-26|\n",
      "|  9|2019-1131| 2019|      2019-12-24|PARTIE OFFICIELLE|ACTES PRESIDENTIELS|DECRET n° 2019-11...|https://journal-o...|Alassane Ouattara|                  2|      JO-SP-01-20200103|nomination du che...|            0|Présidence de la ...|                     |                    |2020-06-26|\n",
      "| 10| 2017-283| 2017|      2017-05-10|PARTIE OFFICIELLE|ACTES PRESIDENTIELS|DECRET n° 2017-28...|https://journal-o...|Alassane Ouattara|                  4|         JO-01-20190103|Permis de recherc...|    975000000|   B&F MINERALS SARL|                     | Bongouanou et Arrah|2020-06-26|\n",
      "| 11| 2017-284| 2017|      2017-05-10|PARTIE OFFICIELLE|ACTES PRESIDENTIELS|DECRET n° 2017-28...|https://journal-o...|Alassane Ouattara|                  4|         JO-01-20190103|Permis de recherc...|    647618000|RANDGOLD RESOURCE...|                     |            Koun-Fao|2020-06-26|\n",
      "| 12| 2018-725| 2018|      2018-09-12|PARTIE OFFICIELLE|ACTES PRESIDENTIELS|DECRET n° 2018-72...|https://journal-o...|Alassane Ouattara|                  5|         JO-03-20190110|Nomination du dir...|            0|PRESIDENCE DE LA ...|                     |                    |2020-06-26|\n",
      "| 13| 2018-874| 2018|      2018-11-22|PARTIE OFFICIELLE|ACTES PRESIDENTIELS|DECRET n° 2018-87...|https://journal-o...|Alassane Ouattara|                  5|         JO-03-20190110|Attributions, org...|            0|PRESIDENCE DE LA ...|                     |                    |2020-06-26|\n",
      "| 14| 2018-888| 2018|      2018-11-28|PARTIE OFFICIELLE|ACTES PRESIDENTIELS|DECRET n° 2018-88...|https://journal-o...|Alassane Ouattara|                  5|         JO-03-20190110|Création, attribu...|            0|PRESIDENCE DE LA ...|                     |                    |2020-06-26|\n",
      "| 15| 2018-890| 2018|      2018-11-28|PARTIE OFFICIELLE|ACTES PRESIDENTIELS|DECRET n° 2018-89...|https://journal-o...|Alassane Ouattara|                  5|         JO-03-20190110|Nomination du dir...|            0|PRESIDENCE DE LA ...|                     |                    |2020-06-26|\n",
      "| 16| 2018-929| 2018|      2018-12-12|PARTIE OFFICIELLE|ACTES PRESIDENTIELS|DECRET n° 2018-92...|https://journal-o...|Alassane Ouattara|                  5|         JO-03-20190110|Nomination des me...|            0|PRESIDENCE DE LA ...|                     |                    |2020-06-26|\n",
      "| 17| 2018-930| 2018|      2018-12-12|PARTIE OFFICIELLE|ACTES PRESIDENTIELS|DECRET n° 2018-92...|https://journal-o...|Alassane Ouattara|                  5|         JO-03-20190110|Nomination des me...|            0|PRESIDENCE DE LA ...|                     |                    |2020-06-26|\n",
      "+---+---------+-----+----------------+-----------------+-------------------+--------------------+--------------------+-----------------+-------------------+-----------------------+--------------------+-------------+--------------------+---------------------+--------------------+----------+\n",
      "\n"
     ]
    }
   ],
   "source": [
    "import pyspark\n",
    "import os\n",
    "import sys\n",
    "#Import DB Infos\n",
    "sys.path.insert(1, '/home/yankees/JOURNAL-OFFICIEL/spark-journal-officiel/commons')\n",
    "import DatabaseConfig as dbcfg\n",
    "import Utils\n",
    "import pandas as pd\n",
    "\n",
    "\n",
    "from pyspark.sql import SparkSession\n",
    "spark = SparkSession.builder.getOrCreate()\n",
    "\n",
    "def loadDbInfos():\n",
    "    deccret_dataframe = spark.read \\\n",
    "    .format(\"jdbc\") \\\n",
    "    .option(\"url\", dbcfg.DB_INFOS['JOURNAL_DB_URL']) \\\n",
    "    .option(\"dbtable\", \"decret\") \\\n",
    "    .option(\"user\", dbcfg.DB_INFOS['JOURNAL_DB_USER']) \\\n",
    "    .option(\"password\", dbcfg.DB_INFOS['JOURNAL_DB_PASSWORD']) \\\n",
    "    .option(\"driver\", dbcfg.DB_INFOS['JOURNAL_DB_DRIVER']) \\\n",
    "    .load()\n",
    "    return deccret_dataframe\n",
    "\n",
    "\n",
    "if __name__ == \"__main__\":\n",
    "    #Create a DataFrame\n",
    "    loadDbInfos()\n",
    "    \n",
    "    decrets_list = loadDbInfos().show()"
   ]
  },
  {
   "cell_type": "code",
   "execution_count": null,
   "metadata": {},
   "outputs": [],
   "source": []
  }
 ],
 "metadata": {
  "kernelspec": {
   "display_name": "Python 3",
   "language": "python",
   "name": "python3"
  },
  "language_info": {
   "codemirror_mode": {
    "name": "ipython",
    "version": 3
   },
   "file_extension": ".py",
   "mimetype": "text/x-python",
   "name": "python",
   "nbconvert_exporter": "python",
   "pygments_lexer": "ipython3",
   "version": "3.8.2"
  }
 },
 "nbformat": 4,
 "nbformat_minor": 4
}
