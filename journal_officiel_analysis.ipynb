{
 "cells": [
  {
   "cell_type": "code",
   "execution_count": 77,
   "metadata": {},
   "outputs": [
    {
     "name": "stdout",
     "output_type": "stream",
     "text": [
      "Journal Officiel Data Analysis\n"
     ]
    }
   ],
   "source": [
    "import pyspark\n",
    "import os\n",
    "import sys\n",
    "#Import DB Infos\n",
    "sys.path.insert(1, '/home/yankees/JOURNAL-OFFICIEL/spark-journal-officiel/commons')\n",
    "import DatabaseConfig as dbcfg\n",
    "import Utils\n",
    "import pandas as pd\n",
    "import pathlib\n",
    "\n",
    "\n",
    "from pyspark.sql import SparkSession\n",
    "spark = SparkSession.builder.getOrCreate()\n",
    "\n",
    "'''\n",
    "This function helps specify the database and table to load for the analysis\n",
    "arguments:\n",
    "    #database name\n",
    "    #table name\n",
    "return:\n",
    "    #table_dataframe\n",
    "'''\n",
    "def load_Db_Infos(db,table):\n",
    "    table_dataframe = spark.read \\\n",
    "    .format(\"jdbc\") \\\n",
    "    .option(\"url\", str(db)) \\\n",
    "    .option(\"dbtable\", str(table)) \\\n",
    "    .option(\"user\", dbcfg.DB_INFOS['JOURNAL_DB_USER']) \\\n",
    "    .option(\"password\", dbcfg.DB_INFOS['JOURNAL_DB_PASSWORD']) \\\n",
    "    .option(\"driver\", dbcfg.DB_INFOS['JOURNAL_DB_DRIVER']) \\\n",
    "    .load()\n",
    "    return table_dataframe\n",
    "\n",
    "\n",
    "'''\n",
    "This function will make different category on specific table like \n",
    "Decret - Categories (\"Ratification de l'accord de prêt\", \"Permis de recherche minière\", \"Nomination\").\n",
    "Finally, this function will generate the csv file corresponding to the category\n",
    "arguments:\n",
    "    #table_name\n",
    "    #list_keyword\n",
    "return:\n",
    "    #dataframe filtered for each element keywoord\n",
    "'''\n",
    "def generate_request_dataset_decret(table_name,list_keyword): \n",
    "    #Generate a list based on the table\n",
    "    table_list = load_Db_Infos(str(CIV),table_name)\n",
    "    \n",
    "    #Generate the dataFrame based on the list_keyword\n",
    "    for keyword in list_keyword:\n",
    "        df_list_keyword = table_list.filter(table_list['tag_decret'].contains(str(keyword)))\n",
    "    \n",
    "        #Create CSV file containing the decret\n",
    "        path = os.path.dirname('/home/yankees/JOURNAL-OFFICIEL/spark-journal-officiel/Decrets/')\n",
    "        keyword_file = os.path.join(path, '_'.join(str(keyword).split()) + '.csv')\n",
    "        df_list_keyword.write.mode('overwrite').option('header', 'true').csv(keyword_file)\n",
    "        \n",
    "        #Print DataFrame Schema\n",
    "        df_list_keyword.printSchema()\n",
    "        \n",
    "        #Print the DataFrame\n",
    "        df_list_keyword.show()\n",
    "    \n",
    "   \n",
    "    return df_list_keyword.count()\n",
    "  \n",
    "    \n",
    "\n",
    "if __name__ == \"__main__\":\n",
    "    print(\"Journal Officiel Data Analysis\")\n",
    "    \n",
    "    #Load specific country database\n",
    "    CIV = dbcfg.DB_INFOS['JOURNAL_DB_URL_CIV']"
   ]
  },
  {
   "cell_type": "code",
   "execution_count": 78,
   "metadata": {},
   "outputs": [
    {
     "data": {
      "text/plain": [
       "DataFrame[id: bigint, numdecret: string, annee: int, date_publication: date, categorie_decret: string, type_acte: string, decretintro: string, decret_texte_url: string, signature: string, journal_officiel_id: bigint, numero_journal_officiel: string, tag_decret: string, montantdecret: bigint, nom_institution: string, reference_pret_decret: string, localite_decret: string, datesubmit: date]"
      ]
     },
     "execution_count": 78,
     "metadata": {},
     "output_type": "execute_result"
    }
   ],
   "source": [
    "load_Db_Infos(CIV,\"decret\")"
   ]
  },
  {
   "cell_type": "code",
   "execution_count": 79,
   "metadata": {},
   "outputs": [
    {
     "name": "stdout",
     "output_type": "stream",
     "text": [
      "root\n",
      " |-- id: long (nullable = true)\n",
      " |-- numdecret: string (nullable = true)\n",
      " |-- annee: integer (nullable = true)\n",
      " |-- date_publication: date (nullable = true)\n",
      " |-- categorie_decret: string (nullable = true)\n",
      " |-- type_acte: string (nullable = true)\n",
      " |-- decretintro: string (nullable = true)\n",
      " |-- decret_texte_url: string (nullable = true)\n",
      " |-- signature: string (nullable = true)\n",
      " |-- journal_officiel_id: long (nullable = true)\n",
      " |-- numero_journal_officiel: string (nullable = true)\n",
      " |-- tag_decret: string (nullable = true)\n",
      " |-- montantdecret: long (nullable = true)\n",
      " |-- nom_institution: string (nullable = true)\n",
      " |-- reference_pret_decret: string (nullable = true)\n",
      " |-- localite_decret: string (nullable = true)\n",
      " |-- datesubmit: date (nullable = true)\n",
      "\n",
      "+---+---------+-----+----------------+-----------------+-------------------+--------------------+--------------------+-----------------+-------------------+-----------------------+--------------------+-------------+--------------------+---------------------+---------------+----------+\n",
      "| id|numdecret|annee|date_publication| categorie_decret|          type_acte|         decretintro|    decret_texte_url|        signature|journal_officiel_id|numero_journal_officiel|          tag_decret|montantdecret|     nom_institution|reference_pret_decret|localite_decret|datesubmit|\n",
      "+---+---------+-----+----------------+-----------------+-------------------+--------------------+--------------------+-----------------+-------------------+-----------------------+--------------------+-------------+--------------------+---------------------+---------------+----------+\n",
      "|  1| 2019-892| 2019|      2019-10-30|PARTIE OFFICIELLE|ACTES PRESIDENTIELS|DECRET n° 2019-89...|https://journal-o...|Alassane Ouattara|                  1|         JO-01-20200102|Ratification de l...|  20781000000|Banque d'Investis...| 127/AP/LA/BIDC/EB...|  Côte d'Ivoire|2020-06-26|\n",
      "|  2| 2019-893| 2019|      2019-10-30|PARTIE OFFICIELLE|ACTES PRESIDENTIELS|DECRET n° 2019-89...|https://journal-o...|Alassane Ouattara|                  1|         JO-01-20200102|Ratification de l...|   3906495494|Fonds africain de...| 21001500408952019...|  Côte d'Ivoire|2020-06-26|\n",
      "|  3| 2019-894| 2019|      2019-10-30|PARTIE OFFICIELLE|ACTES PRESIDENTIELS|DECRET n° 2019-89...|https://journal-o...|Alassane Ouattara|                  1|         JO-01-20200102|Ratification de l...|   3454144908|Banque africaine ...|        5565130000651|  Côte d'Ivoire|2020-06-26|\n",
      "+---+---------+-----+----------------+-----------------+-------------------+--------------------+--------------------+-----------------+-------------------+-----------------------+--------------------+-------------+--------------------+---------------------+---------------+----------+\n",
      "\n",
      "root\n",
      " |-- id: long (nullable = true)\n",
      " |-- numdecret: string (nullable = true)\n",
      " |-- annee: integer (nullable = true)\n",
      " |-- date_publication: date (nullable = true)\n",
      " |-- categorie_decret: string (nullable = true)\n",
      " |-- type_acte: string (nullable = true)\n",
      " |-- decretintro: string (nullable = true)\n",
      " |-- decret_texte_url: string (nullable = true)\n",
      " |-- signature: string (nullable = true)\n",
      " |-- journal_officiel_id: long (nullable = true)\n",
      " |-- numero_journal_officiel: string (nullable = true)\n",
      " |-- tag_decret: string (nullable = true)\n",
      " |-- montantdecret: long (nullable = true)\n",
      " |-- nom_institution: string (nullable = true)\n",
      " |-- reference_pret_decret: string (nullable = true)\n",
      " |-- localite_decret: string (nullable = true)\n",
      " |-- datesubmit: date (nullable = true)\n",
      "\n",
      "+---+---------+-----+----------------+-----------------+-------------------+--------------------+--------------------+-----------------+-------------------+-----------------------+--------------------+-------------+--------------------+---------------------+--------------------+----------+\n",
      "| id|numdecret|annee|date_publication| categorie_decret|          type_acte|         decretintro|    decret_texte_url|        signature|journal_officiel_id|numero_journal_officiel|          tag_decret|montantdecret|     nom_institution|reference_pret_decret|     localite_decret|datesubmit|\n",
      "+---+---------+-----+----------------+-----------------+-------------------+--------------------+--------------------+-----------------+-------------------+-----------------------+--------------------+-------------+--------------------+---------------------+--------------------+----------+\n",
      "|  4| 2019-901| 2019|      2019-10-30|PARTIE OFFICIELLE|ACTES PRESIDENTIELS|DECRET n° 2019-90...|https://journal-o...|Alassane Ouattara|                  1|         JO-01-20200102|Nomination d'un a...|            0|                    |             2019-901|République islami...|2020-06-26|\n",
      "| 12| 2018-725| 2018|      2018-09-12|PARTIE OFFICIELLE|ACTES PRESIDENTIELS|DECRET n° 2018-72...|https://journal-o...|Alassane Ouattara|                  5|         JO-03-20190110|Nomination du dir...|            0|PRESIDENCE DE LA ...|                     |                    |2020-06-26|\n",
      "| 15| 2018-890| 2018|      2018-11-28|PARTIE OFFICIELLE|ACTES PRESIDENTIELS|DECRET n° 2018-89...|https://journal-o...|Alassane Ouattara|                  5|         JO-03-20190110|Nomination du dir...|            0|PRESIDENCE DE LA ...|                     |                    |2020-06-26|\n",
      "| 16| 2018-929| 2018|      2018-12-12|PARTIE OFFICIELLE|ACTES PRESIDENTIELS|DECRET n° 2018-92...|https://journal-o...|Alassane Ouattara|                  5|         JO-03-20190110|Nomination des me...|            0|PRESIDENCE DE LA ...|                     |                    |2020-06-26|\n",
      "| 17| 2018-930| 2018|      2018-12-12|PARTIE OFFICIELLE|ACTES PRESIDENTIELS|DECRET n° 2018-92...|https://journal-o...|Alassane Ouattara|                  5|         JO-03-20190110|Nomination des me...|            0|PRESIDENCE DE LA ...|                     |                    |2020-06-26|\n",
      "+---+---------+-----+----------------+-----------------+-------------------+--------------------+--------------------+-----------------+-------------------+-----------------------+--------------------+-------------+--------------------+---------------------+--------------------+----------+\n",
      "\n",
      "root\n",
      " |-- id: long (nullable = true)\n",
      " |-- numdecret: string (nullable = true)\n",
      " |-- annee: integer (nullable = true)\n",
      " |-- date_publication: date (nullable = true)\n",
      " |-- categorie_decret: string (nullable = true)\n",
      " |-- type_acte: string (nullable = true)\n",
      " |-- decretintro: string (nullable = true)\n",
      " |-- decret_texte_url: string (nullable = true)\n",
      " |-- signature: string (nullable = true)\n",
      " |-- journal_officiel_id: long (nullable = true)\n",
      " |-- numero_journal_officiel: string (nullable = true)\n",
      " |-- tag_decret: string (nullable = true)\n",
      " |-- montantdecret: long (nullable = true)\n",
      " |-- nom_institution: string (nullable = true)\n",
      " |-- reference_pret_decret: string (nullable = true)\n",
      " |-- localite_decret: string (nullable = true)\n",
      " |-- datesubmit: date (nullable = true)\n",
      "\n",
      "+---+---------+-----+----------------+-----------------+-------------------+--------------------+--------------------+-----------------+-------------------+-----------------------+--------------------+-------------+--------------------+---------------------+-------------------+----------+\n",
      "| id|numdecret|annee|date_publication| categorie_decret|          type_acte|         decretintro|    decret_texte_url|        signature|journal_officiel_id|numero_journal_officiel|          tag_decret|montantdecret|     nom_institution|reference_pret_decret|    localite_decret|datesubmit|\n",
      "+---+---------+-----+----------------+-----------------+-------------------+--------------------+--------------------+-----------------+-------------------+-----------------------+--------------------+-------------+--------------------+---------------------+-------------------+----------+\n",
      "|  5| 2019-919| 2019|      2019-11-06|PARTIE OFFICIELLE|ACTES PRESIDENTIELS|DECRET n° 2019-91...|https://journal-o...|Alassane Ouattara|                  1|         JO-01-20200102|Permis de recherc...|   1015000000|   SHEFA Minerals SA|                     | Béoumi et Sakassou|2020-06-26|\n",
      "|  6| 2019-920| 2019|      2019-11-06|PARTIE OFFICIELLE|ACTES PRESIDENTIELS|DECRET n° 2019-92...|https://journal-o...|Alassane Ouattara|                  1|         JO-01-20200102|Permis de recherc...|    551000000|   SHEFA Minerals SA|                     |           Zuénoula|2020-06-26|\n",
      "| 10| 2017-283| 2017|      2017-05-10|PARTIE OFFICIELLE|ACTES PRESIDENTIELS|DECRET n° 2017-28...|https://journal-o...|Alassane Ouattara|                  4|         JO-01-20190103|Permis de recherc...|    975000000|   B&F MINERALS SARL|                     |Bongouanou et Arrah|2020-06-26|\n",
      "| 11| 2017-284| 2017|      2017-05-10|PARTIE OFFICIELLE|ACTES PRESIDENTIELS|DECRET n° 2017-28...|https://journal-o...|Alassane Ouattara|                  4|         JO-01-20190103|Permis de recherc...|    647618000|RANDGOLD RESOURCE...|                     |           Koun-Fao|2020-06-26|\n",
      "+---+---------+-----+----------------+-----------------+-------------------+--------------------+--------------------+-----------------+-------------------+-----------------------+--------------------+-------------+--------------------+---------------------+-------------------+----------+\n",
      "\n"
     ]
    },
    {
     "data": {
      "text/plain": [
       "4"
      ]
     },
     "execution_count": 79,
     "metadata": {},
     "output_type": "execute_result"
    }
   ],
   "source": [
    "generate_request_dataset_decret(\"decret\",[\"accord de prêt\", \"Nomination\", \"Permis de recherche minière\"])"
   ]
  },
  {
   "cell_type": "code",
   "execution_count": null,
   "metadata": {},
   "outputs": [],
   "source": []
  }
 ],
 "metadata": {
  "kernelspec": {
   "display_name": "Python 3",
   "language": "python",
   "name": "python3"
  },
  "language_info": {
   "codemirror_mode": {
    "name": "ipython",
    "version": 3
   },
   "file_extension": ".py",
   "mimetype": "text/x-python",
   "name": "python",
   "nbconvert_exporter": "python",
   "pygments_lexer": "ipython3",
   "version": "3.8.2"
  }
 },
 "nbformat": 4,
 "nbformat_minor": 4
}
